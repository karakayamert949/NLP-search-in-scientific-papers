{
 "cells": [
  {
   "cell_type": "code",
   "execution_count": 3,
   "metadata": {},
   "outputs": [],
   "source": [
    "import PyPDF2 as pdf\n",
    "import os\n",
    "import nltk\n",
    "import numpy as np\n",
    "\n",
    "\n",
    "def main():\n",
    "    dirName = input(\n",
    "        \"Enter the directory name which papers with txt file extension are located: \")\n",
    "    files = load_files(dirName)\n",
    "    files_words = {filename: tokenize(files[filename]) for filename in files}\n",
    "    file_idfs = compute_idfs(files_words)\n"
   ]
  },
  {
   "cell_type": "code",
   "execution_count": null,
   "metadata": {},
   "outputs": [],
   "source": [
    "def convert_pdfs_to_txt(directory):\n",
    "    \"\"\"\n",
    "    Extract texts from pdf files and write their content into new txt files\n",
    "    You only want to do this process once\n",
    "    Inputs a directory name, for every pdf file in the directory\n",
    "    this function creates new .txt files writes the content of pdf\n",
    "    \"\"\"\n",
    "    for file in os.listdir(directory):\n",
    "        pdfFile = open(os.path.join(directory, file), \"rb\")\n",
    "        pdfReader = pdf.PdfFileReader(pdfFile)\n",
    "        numPdfPage = pdfReader.numPages\n",
    "        paperTxt = []\n",
    "        filetxtName = file[:-3]\n",
    "        for pageNum in range(numPdfPage):\n",
    "            paperTxt.append(pdfReader.getPage(pageNum).extractText())\n",
    "        with open(os.path.join(\"papersTXT\", filetxtName), \"w\", encoding=\"utf-8\") as f:\n",
    "            for pagetext in paperTxt:\n",
    "                f.write(pagetext)\n",
    "    return True\n",
    "\n",
    "\n",
    "convert_pdfs_to_txt(\"papersPDF\")\n"
   ]
  },
  {
   "cell_type": "code",
   "execution_count": null,
   "metadata": {},
   "outputs": [],
   "source": [
    "def load_files(directory):\n",
    "    \"\"\"\n",
    "    Extract text from txt files\n",
    "    Inputs a directory name, \n",
    "    Outputs a dictionary whose keys are names of the files and values are texts of the files\n",
    "    \"\"\"\n",
    "    filesDict = dict()\n",
    "    for file in os.listdir(directory):\n",
    "        with open(os.path.join(directory, file), \"r\", encoding=\"utf-8\") as f:\n",
    "            filesDict[file] = f.read()\n",
    "    return filesDict\n"
   ]
  },
  {
   "cell_type": "code",
   "execution_count": null,
   "metadata": {},
   "outputs": [],
   "source": [
    "def tokenize(text):\n",
    "    \"\"\"\n",
    "    Process text such that oly alphabetical characters will be left\n",
    "    Convert uppercase characters to lowercase\n",
    "    Inputs a string\n",
    "    Outputs a list of words\n",
    "    \"\"\"\n",
    "    text = text.lower()\n",
    "    words = nltk.word_tokenize(text)\n",
    "    tokenizedWords = [word for word in words if word.isalpha()]\n",
    "    return tokenizedWords\n"
   ]
  },
  {
   "cell_type": "code",
   "execution_count": null,
   "metadata": {},
   "outputs": [],
   "source": [
    "def compute_idfs(fileDict):\n",
    "    \"\"\"\n",
    "    computes idf values for tokenized words\n",
    "    idf formula:\n",
    "    idf= log(total number of documents/\n",
    "            number of document that contains word)\n",
    "\n",
    "    Inputs a dictionary whose keys are name of the files\n",
    "    and values are tokenized words\n",
    "    Outputs a dictionary whose keys are words and values are idf values\n",
    "    \"\"\"\n",
    "    countDict = dict()\n",
    "    idfDict = dict()\n",
    "    uniqueWords = set(sum(fileDict.values(), [])\n",
    "\n",
    "    for word in uniqueWords:\n",
    "        for content in fileDict.values():\n",
    "            if word in content:\n",
    "                try:\n",
    "                    countDict[word] += 1\n",
    "                except KeyError:\n",
    "                    countDict[word]=1\n",
    "\n",
    "    numFiles=len(fileDict)\n",
    "    for word, count in countDict.items():\n",
    "        idfDict[word]=np.log(numFiles/count)\n",
    "\n",
    "    return idfDict\n"
   ]
  },
  {
   "cell_type": "code",
   "execution_count": null,
   "metadata": {},
   "outputs": [],
   "source": [
    "if __name__ == \"__main__\":\n",
    "    main()\n"
   ]
  }
 ],
 "metadata": {
  "kernelspec": {
   "display_name": "Python 3.10.6 64-bit",
   "language": "python",
   "name": "python3"
  },
  "language_info": {
   "codemirror_mode": {
    "name": "ipython",
    "version": 3
   },
   "file_extension": ".py",
   "mimetype": "text/x-python",
   "name": "python",
   "nbconvert_exporter": "python",
   "pygments_lexer": "ipython3",
   "version": "3.10.6"
  },
  "orig_nbformat": 4,
  "vscode": {
   "interpreter": {
    "hash": "19f8f9ebccd493d1979261b88c51ecd06bf2efdee26e5f5e5ddb3d1c8ea2e26f"
   }
  }
 },
 "nbformat": 4,
 "nbformat_minor": 2
}
