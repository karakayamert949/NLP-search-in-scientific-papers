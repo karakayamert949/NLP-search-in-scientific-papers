{
 "cells": [
  {
   "cell_type": "code",
   "execution_count": null,
   "metadata": {},
   "outputs": [],
   "source": [
    "import PyPDF2 as pdf\n",
    "import os\n",
    "\n",
    "\n",
    "def main():\n",
    "    dirName = input(\n",
    "        \"Enter the directory name which papers with txt file extension are located: \")\n",
    "    files = load_files(dirName)\n"
   ]
  },
  {
   "cell_type": "code",
   "execution_count": null,
   "metadata": {},
   "outputs": [],
   "source": [
    "def convert_pdfs_to_txt(directory):\n",
    "    \"\"\"\n",
    "    Extract texts from pdf files and write their content into new txt files\n",
    "    You only want to do this process once\n",
    "    Inputs a directory name, for every pdf file in the directory\n",
    "    this function creates new .txt files writes the content of pdf\n",
    "    \"\"\"\n",
    "    for file in os.listdir(directory):\n",
    "        pdfFile = open(os.path.join(directory, file), \"rb\")\n",
    "        pdfReader = pdf.PdfFileReader(pdfFile)\n",
    "        numPdfPage = pdfReader.numPages\n",
    "        paperTxt = []\n",
    "        filetxtName = file[:-3]\n",
    "        for pageNum in range(numPdfPage):\n",
    "            paperTxt.append(pdfReader.getPage(pageNum).extractText())\n",
    "        with open(os.path.join(\"papersTXT\", filetxtName), \"w\", encoding=\"utf-8\") as f:\n",
    "            for pagetext in paperTxt:\n",
    "                f.write(pagetext)\n",
    "    return True\n",
    "\n",
    "\n",
    "convert_pdfs_to_txt(\"papersPDF\")\n"
   ]
  },
  {
   "cell_type": "code",
   "execution_count": null,
   "metadata": {},
   "outputs": [],
   "source": [
    "def load_files(directory):\n",
    "    \"\"\"\n",
    "    Extract text from txt files\n",
    "    Inputs a directory name, \n",
    "    Outputs a dictionary whose keys are names of the files and values are texts of the files\n",
    "    \"\"\"\n",
    "    filesDict = dict()\n",
    "    for file in os.listdir(directory):\n",
    "        with open(os.path.join(directory, file), \"r\", encoding=\"utf-8\") as f:\n",
    "            filesDict[file] = f.read()\n",
    "    return filesDict\n"
   ]
  },
  {
   "cell_type": "code",
   "execution_count": null,
   "metadata": {},
   "outputs": [],
   "source": [
    "if __name__ == \"__main__\":\n",
    "    main()\n"
   ]
  }
 ],
 "metadata": {
  "kernelspec": {
   "display_name": "Python 3.10.6 64-bit",
   "language": "python",
   "name": "python3"
  },
  "language_info": {
   "codemirror_mode": {
    "name": "ipython",
    "version": 3
   },
   "file_extension": ".py",
   "mimetype": "text/x-python",
   "name": "python",
   "nbconvert_exporter": "python",
   "pygments_lexer": "ipython3",
   "version": "3.10.6"
  },
  "orig_nbformat": 4,
  "vscode": {
   "interpreter": {
    "hash": "19f8f9ebccd493d1979261b88c51ecd06bf2efdee26e5f5e5ddb3d1c8ea2e26f"
   }
  }
 },
 "nbformat": 4,
 "nbformat_minor": 2
}
